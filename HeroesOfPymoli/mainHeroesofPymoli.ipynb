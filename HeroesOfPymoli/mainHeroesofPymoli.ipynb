{
 "cells": [
  {
   "cell_type": "markdown",
   "metadata": {
    "slideshow": {
     "slide_type": "fragment"
    }
   },
   "source": [
    "# Heroes Of Pymoli Data Analysis\n",
    "## Summary\n",
    "-There are <576> players, XX% are males and XX are femmales.\n",
    "\n"
   ]
  },
  {
   "cell_type": "markdown",
   "metadata": {},
   "source": [
    "## Data"
   ]
  },
  {
   "cell_type": "code",
   "execution_count": 1,
   "metadata": {
    "scrolled": true
   },
   "outputs": [
    {
     "data": {
      "text/plain": [
       "'<table border=\"1\" class=\"dataframe\">\\n  <thead>\\n    <tr style=\"text-align: center;\">\\n      <th>Purchase ID</th>\\n      <th>SN</th>\\n      <th>Age</th>\\n      <th>Gender</th>\\n      <th>Item ID</th>\\n      <th>Item Name</th>\\n      <th>Price</th>\\n    </tr>\\n  </thead>\\n  <tbody>\\n    <tr>\\n      <td>0</td>\\n      <td>Lisim78</td>\\n      <td>20</td>\\n      <td>Male</td>\\n      <td>108</td>\\n      <td>Extraction, Quickblade Of Trembling Hands</td>\\n      <td>3.53</td>\\n    </tr>\\n    <tr>\\n      <td>1</td>\\n      <td>Lisovynya38</td>\\n      <td>40</td>\\n      <td>Male</td>\\n      <td>143</td>\\n      <td>Frenzied Scimitar</td>\\n      <td>1.56</td>\\n    </tr>\\n    <tr>\\n      <td>2</td>\\n      <td>Ithergue48</td>\\n      <td>24</td>\\n      <td>Male</td>\\n      <td>92</td>\\n      <td>Final Critic</td>\\n      <td>4.88</td>\\n    </tr>\\n    <tr>\\n      <td>3</td>\\n      <td>Chamassasya86</td>\\n      <td>24</td>\\n      <td>Male</td>\\n      <td>100</td>\\n      <td>Blindscythe</td>\\n      <td>3.27</td>\\n    </tr>\\n    <tr>\\n      <td>4</td>\\n      <td>Iskosia90</td>\\n      <td>23</td>\\n      <td>Male</td>\\n      <td>131</td>\\n      <td>Fury</td>\\n      <td>1.44</td>\\n    </tr>\\n  </tbody>\\n</table>'"
      ]
     },
     "execution_count": 1,
     "metadata": {},
     "output_type": "execute_result"
    }
   ],
   "source": [
    "#Setup\n",
    "import pandas as pd\n",
    "#Load file with data and read data\n",
    "DataFile=\"Resources/purchase_data.csv\"\n",
    "Purchase_df=pd.read_csv(DataFile)\n",
    "Purchase_df.head().to_html(index=False,justify='center')\n"
   ]
  },
  {
   "cell_type": "markdown",
   "metadata": {},
   "source": [
    "##                                                                 Players"
   ]
  },
  {
   "cell_type": "code",
   "execution_count": 2,
   "metadata": {
    "scrolled": true
   },
   "outputs": [
    {
     "data": {
      "text/plain": [
       "'<table border=\"1\" class=\"dataframe\">\\n  <thead>\\n    <tr style=\"text-align: center;\">\\n      <th></th>\\n      <th>Total</th>\\n    </tr>\\n  </thead>\\n  <tbody>\\n    <tr>\\n      <th>Players</th>\\n      <td>576</td>\\n    </tr>\\n  </tbody>\\n</table>'"
      ]
     },
     "execution_count": 2,
     "metadata": {},
     "output_type": "execute_result"
    }
   ],
   "source": [
    "#Player count\n",
    "Total=len(Purchase_df['SN'].unique())\n",
    "pd.DataFrame({'Total':Total}, index=['Players']).to_html(justify='center')"
   ]
  },
  {
   "cell_type": "markdown",
   "metadata": {},
   "source": [
    "## Revenue Analysis"
   ]
  },
  {
   "cell_type": "code",
   "execution_count": 3,
   "metadata": {
    "scrolled": true
   },
   "outputs": [],
   "source": [
    "#Number of unique Items\n",
    "UniqueItems=len(Purchase_df['Item ID'].unique())\n",
    "#Average purchase price\n",
    "PriceAverage=round(Purchase_df['Price'].mean(),4)\n",
    "#Total number of purchases\n",
    "NumberPurchases=Purchase_df['Purchase ID'].count()\n",
    "#Total Revenue\n",
    "Revenue=round(Purchase_df['Price'].sum(),2)"
   ]
  },
  {
   "cell_type": "code",
   "execution_count": 4,
   "metadata": {
    "scrolled": true
   },
   "outputs": [
    {
     "data": {
      "text/plain": [
       "'<table border=\"1\" class=\"dataframe\">\\n  <thead>\\n    <tr style=\"text-align: center;\">\\n      <th></th>\\n      <th>Unique Items</th>\\n      <th>Average Purchase Price</th>\\n      <th>Number of Purchases</th>\\n      <th>Total Revenue</th>\\n    </tr>\\n  </thead>\\n  <tbody>\\n    <tr>\\n      <th>Revenue summary</th>\\n      <td>179</td>\\n      <td>$3.05</td>\\n      <td>780</td>\\n      <td>$2,379.77</td>\\n    </tr>\\n  </tbody>\\n</table>'"
      ]
     },
     "execution_count": 4,
     "metadata": {},
     "output_type": "execute_result"
    }
   ],
   "source": [
    "RenevuePurchasing=pd.DataFrame({\n",
    "    'Unique Items':UniqueItems,\n",
    "    'Average Purchase Price':'${:.2f}'.format(PriceAverage),\n",
    "    'Number of Purchases':NumberPurchases,\n",
    "    'Total Revenue':'${:,}'.format(Revenue)\n",
    "}, index=['Revenue summary'])\n",
    "RenevuePurchasing.to_html(justify='center')"
   ]
  },
  {
   "cell_type": "markdown",
   "metadata": {},
   "source": [
    "## Gender Demographics\n",
    "  \n",
    " There are player which are"
   ]
  },
  {
   "cell_type": "code",
   "execution_count": 5,
   "metadata": {
    "scrolled": true
   },
   "outputs": [],
   "source": [
    "#Percentage and count of male players\n",
    "#Percentage and count of female players\n",
    "#Percentage and count of other/Non-Disclosed\n",
    "genderGroup=Purchase_df.groupby(['Gender'])\n",
    "genderCount=genderGroup.nunique()['SN']\n",
    "genderPercent=genderGroup.nunique()['SN']/Total\n"
   ]
  },
  {
   "cell_type": "code",
   "execution_count": 6,
   "metadata": {
    "scrolled": true
   },
   "outputs": [
    {
     "data": {
      "text/plain": [
       "'<table border=\"1\" class=\"dataframe\">\\n  <thead>\\n    <tr style=\"text-align: center;\">\\n      <th></th>\\n      <th>Players</th>\\n      <th>Percent</th>\\n    </tr>\\n  </thead>\\n  <tbody>\\n    <tr>\\n      <th>Other / Non-Disclosed</th>\\n      <td>11</td>\\n      <td>1.91%</td>\\n    </tr>\\n    <tr>\\n      <th>Male</th>\\n      <td>484</td>\\n      <td>84.03%</td>\\n    </tr>\\n    <tr>\\n      <th>Female</th>\\n      <td>81</td>\\n      <td>14.06%</td>\\n    </tr>\\n  </tbody>\\n</table>'"
      ]
     },
     "execution_count": 6,
     "metadata": {},
     "output_type": "execute_result"
    }
   ],
   "source": [
    "SummaryGender=pd.DataFrame({\n",
    "    'Players':genderCount,\n",
    "    'Percent':genderPercent.map('{:.2%}'.format)\n",
    "}, index=set(Purchase_df['Gender']))\n",
    "SummaryGender.to_html(justify='center')"
   ]
  },
  {
   "cell_type": "markdown",
   "metadata": {},
   "source": [
    "### Purchasing Analysis"
   ]
  },
  {
   "cell_type": "code",
   "execution_count": 7,
   "metadata": {
    "scrolled": true
   },
   "outputs": [],
   "source": [
    "#By gender\n",
    "#Average purchase price\n",
    "#Total purchase value\n",
    "#Averange purchase total per person by gender\n",
    "genderPriceAverage=round(genderGroup['Price'].mean(),2)\n",
    "genderPurchaseValue=round(genderGroup['Price'].sum(),2)\n",
    "genderPurcase=round(genderGroup['Purchase ID'].count(),2)\n",
    "genderPurcaseAvarange=genderPurchaseValue/genderCount\n",
    "\n",
    "\n",
    "\n"
   ]
  },
  {
   "cell_type": "code",
   "execution_count": 8,
   "metadata": {
    "scrolled": true
   },
   "outputs": [
    {
     "data": {
      "text/plain": [
       "'<table border=\"1\" class=\"dataframe\">\\n  <thead>\\n    <tr style=\"text-align: center;\">\\n      <th></th>\\n      <th>Number of purchasings</th>\\n      <th>Avarage purchase price</th>\\n      <th>Total purchase vale</th>\\n      <th>Avarage Purchase per person</th>\\n    </tr>\\n    <tr>\\n      <th>Gender</th>\\n      <th></th>\\n      <th></th>\\n      <th></th>\\n      <th></th>\\n    </tr>\\n  </thead>\\n  <tbody>\\n    <tr>\\n      <th>Female</th>\\n      <td>113</td>\\n      <td>$3.20</td>\\n      <td>$361.94</td>\\n      <td>$4.47</td>\\n    </tr>\\n    <tr>\\n      <th>Male</th>\\n      <td>652</td>\\n      <td>$3.02</td>\\n      <td>$1,967.64</td>\\n      <td>$4.07</td>\\n    </tr>\\n    <tr>\\n      <th>Other / Non-Disclosed</th>\\n      <td>15</td>\\n      <td>$3.35</td>\\n      <td>$50.19</td>\\n      <td>$4.56</td>\\n    </tr>\\n  </tbody>\\n</table>'"
      ]
     },
     "execution_count": 8,
     "metadata": {},
     "output_type": "execute_result"
    }
   ],
   "source": [
    "SummaryGender2=pd.DataFrame({\n",
    "    'Number of purchasings':genderPurcase,\n",
    "    'Avarage purchase price':genderPriceAverage.map('${:.2f}'.format),\n",
    "    'Total purchase vale':genderPurchaseValue.map('${:,}'.format),\n",
    "    'Avarage Purchase per person':genderPurcaseAvarange.map('${:.2f}'.format)\n",
    "})\n",
    "SummaryGender2.to_html(justify='center')"
   ]
  },
  {
   "cell_type": "markdown",
   "metadata": {},
   "source": [
    "## Age Demographis"
   ]
  },
  {
   "cell_type": "code",
   "execution_count": 9,
   "metadata": {
    "scrolled": true
   },
   "outputs": [],
   "source": [
    "#Establish bins for ages\n",
    "#Categorize the existing players using the age bins. Hint: use pd.cut()\n",
    "#Calculate the numbers and percentages by age group\n",
    "#Create a summary data frame to hold the results\n",
    "#Optional: round the percentage column to two decimal points\n",
    "#Display Age Demographics Table\n",
    "\n",
    "bins=[0,9,14,19,24,29,34,39,99]\n",
    "bins_labels=['<10','10-14','15-19','20-24','25-29','30-34','35-39','40+']\n",
    "Purchase_df['Age category']=pd.cut(Purchase_df['Age'], bins, labels=bins_labels)\n"
   ]
  },
  {
   "cell_type": "code",
   "execution_count": 10,
   "metadata": {
    "scrolled": true
   },
   "outputs": [
    {
     "data": {
      "text/plain": [
       "'<table border=\"1\" class=\"dataframe\">\\n  <thead>\\n    <tr style=\"text-align: center;\">\\n      <th></th>\\n      <th>Total count</th>\\n      <th>Percent</th>\\n    </tr>\\n    <tr>\\n      <th>Age category</th>\\n      <th></th>\\n      <th></th>\\n    </tr>\\n  </thead>\\n  <tbody>\\n    <tr>\\n      <th>&lt;10</th>\\n      <td>17</td>\\n      <td>2.95%</td>\\n    </tr>\\n    <tr>\\n      <th>10-14</th>\\n      <td>22</td>\\n      <td>3.82%</td>\\n    </tr>\\n    <tr>\\n      <th>15-19</th>\\n      <td>107</td>\\n      <td>18.58%</td>\\n    </tr>\\n    <tr>\\n      <th>20-24</th>\\n      <td>258</td>\\n      <td>44.79%</td>\\n    </tr>\\n    <tr>\\n      <th>25-29</th>\\n      <td>77</td>\\n      <td>13.37%</td>\\n    </tr>\\n    <tr>\\n      <th>30-34</th>\\n      <td>52</td>\\n      <td>9.03%</td>\\n    </tr>\\n    <tr>\\n      <th>35-39</th>\\n      <td>31</td>\\n      <td>5.38%</td>\\n    </tr>\\n    <tr>\\n      <th>40+</th>\\n      <td>12</td>\\n      <td>2.08%</td>\\n    </tr>\\n  </tbody>\\n</table>'"
      ]
     },
     "execution_count": 10,
     "metadata": {},
     "output_type": "execute_result"
    }
   ],
   "source": [
    "AgeCount=Purchase_df.groupby(['Age category']).nunique()['SN']\n",
    "AgePercent=round(AgeCount/Total,4)\n",
    "SummaryAge=pd.DataFrame({\n",
    "    'Total count':AgeCount,\n",
    "    'Percent':AgePercent.map('{:.2%}'.format)\n",
    "},)\n",
    "SummaryAge.to_html(justify='center')"
   ]
  },
  {
   "cell_type": "markdown",
   "metadata": {
    "scrolled": true
   },
   "source": [
    "### Purchasing by Age"
   ]
  },
  {
   "cell_type": "code",
   "execution_count": 11,
   "metadata": {
    "scrolled": true
   },
   "outputs": [],
   "source": [
    "AgeGroup=Purchase_df.groupby(['Age category'])\n",
    "AgeCategory=AgeGroup['Purchase ID'].count()\n",
    "AgeAveragePrice=round(AgeGroup['Price'].mean(),2)\n",
    "AgePurchases=round(AgeGroup['Price'].sum(),2)\n",
    "AgeAvePerCategory=round(AgePurchases/AgeCount,2)\n"
   ]
  },
  {
   "cell_type": "code",
   "execution_count": 12,
   "metadata": {
    "scrolled": true
   },
   "outputs": [
    {
     "data": {
      "text/plain": [
       "'<table border=\"1\" class=\"dataframe\">\\n  <thead>\\n    <tr style=\"text-align: center;\">\\n      <th></th>\\n      <th>Purchase Count</th>\\n      <th>Average purchase price</th>\\n      <th>Total purchase value</th>\\n      <th>Ave Total Purchase per Person</th>\\n    </tr>\\n    <tr>\\n      <th>Age category</th>\\n      <th></th>\\n      <th></th>\\n      <th></th>\\n      <th></th>\\n    </tr>\\n  </thead>\\n  <tbody>\\n    <tr>\\n      <th>&lt;10</th>\\n      <td>23</td>\\n      <td>$3.35</td>\\n      <td>$77.13</td>\\n      <td>$4.54</td>\\n    </tr>\\n    <tr>\\n      <th>10-14</th>\\n      <td>28</td>\\n      <td>$2.96</td>\\n      <td>$82.78</td>\\n      <td>$3.76</td>\\n    </tr>\\n    <tr>\\n      <th>15-19</th>\\n      <td>136</td>\\n      <td>$3.04</td>\\n      <td>$412.89</td>\\n      <td>$3.86</td>\\n    </tr>\\n    <tr>\\n      <th>20-24</th>\\n      <td>365</td>\\n      <td>$3.05</td>\\n      <td>$1,114.06</td>\\n      <td>$4.32</td>\\n    </tr>\\n    <tr>\\n      <th>25-29</th>\\n      <td>101</td>\\n      <td>$2.90</td>\\n      <td>$293.0</td>\\n      <td>$3.81</td>\\n    </tr>\\n    <tr>\\n      <th>30-34</th>\\n      <td>73</td>\\n      <td>$2.93</td>\\n      <td>$214.0</td>\\n      <td>$4.12</td>\\n    </tr>\\n    <tr>\\n      <th>35-39</th>\\n      <td>41</td>\\n      <td>$3.60</td>\\n      <td>$147.67</td>\\n      <td>$4.76</td>\\n    </tr>\\n    <tr>\\n      <th>40+</th>\\n      <td>13</td>\\n      <td>$2.94</td>\\n      <td>$38.24</td>\\n      <td>$3.19</td>\\n    </tr>\\n  </tbody>\\n</table>'"
      ]
     },
     "execution_count": 12,
     "metadata": {},
     "output_type": "execute_result"
    }
   ],
   "source": [
    "SummaryAge2=pd.DataFrame({\n",
    "    'Purchase Count':AgeCategory,\n",
    "    'Average purchase price':AgeAveragePrice.map('${:.2f}'.format),\n",
    "    'Total purchase value':AgePurchases.map('${:,}'.format),\n",
    "    'Ave Total Purchase per Person':AgeAvePerCategory.map('${:.2f}'.format)\n",
    "})\n",
    "SummaryAge2.to_html(justify='center')"
   ]
  },
  {
   "cell_type": "markdown",
   "metadata": {
    "scrolled": true
   },
   "source": [
    "## Top Spenders"
   ]
  },
  {
   "cell_type": "code",
   "execution_count": 13,
   "metadata": {},
   "outputs": [],
   "source": [
    "SNCount=Purchase_df.groupby(['SN']).count()['Purchase ID']\n",
    "SNAveragePurchasePrice=Purchase_df.groupby(['SN']).mean()['Price']\n",
    "SNPurchaseValue=Purchase_df.groupby(['SN']).sum()['Price']\n"
   ]
  },
  {
   "cell_type": "code",
   "execution_count": 14,
   "metadata": {
    "scrolled": true
   },
   "outputs": [
    {
     "data": {
      "text/plain": [
       "'<table border=\"1\" class=\"dataframe\">\\n  <thead>\\n    <tr style=\"text-align: center;\">\\n      <th></th>\\n      <th>Count Purchase</th>\\n      <th>Avarage Purchase Price</th>\\n      <th>Total Purchase Value</th>\\n    </tr>\\n    <tr>\\n      <th>SN</th>\\n      <th></th>\\n      <th></th>\\n      <th></th>\\n    </tr>\\n  </thead>\\n  <tbody>\\n    <tr>\\n      <th>Lisosia93</th>\\n      <td>5</td>\\n      <td>$3.79</td>\\n      <td>$     18.96</td>\\n    </tr>\\n    <tr>\\n      <th>Idastidru52</th>\\n      <td>4</td>\\n      <td>$3.86</td>\\n      <td>$     15.45</td>\\n    </tr>\\n    <tr>\\n      <th>Chamjask73</th>\\n      <td>3</td>\\n      <td>$4.61</td>\\n      <td>$     13.83</td>\\n    </tr>\\n    <tr>\\n      <th>Iral74</th>\\n      <td>4</td>\\n      <td>$3.40</td>\\n      <td>$     13.62</td>\\n    </tr>\\n    <tr>\\n      <th>Iskadarya95</th>\\n      <td>3</td>\\n      <td>$4.37</td>\\n      <td>$     13.10</td>\\n    </tr>\\n  </tbody>\\n</table>'"
      ]
     },
     "execution_count": 14,
     "metadata": {},
     "output_type": "execute_result"
    }
   ],
   "source": [
    "SummarySN=pd.DataFrame({\n",
    "    'Count Purchase':SNCount,\n",
    "    'Avarage Purchase Price':SNAveragePurchasePrice.map('${:.2f}'.format),\n",
    "    'Total Purchase Value':SNPurchaseValue.map('${:10.2f}'.format)\n",
    "}, )\n",
    "SummarySN.sort_values(by=['Total Purchase Value'], ascending=False).head().to_html(justify='center')"
   ]
  },
  {
   "cell_type": "markdown",
   "metadata": {},
   "source": [
    "## Most Popular Items"
   ]
  },
  {
   "cell_type": "code",
   "execution_count": 15,
   "metadata": {
    "scrolled": true
   },
   "outputs": [],
   "source": [
    "#Retrieve the Item ID, Item Name, and Item Price columns\n",
    "#Group by Item ID and Item Name. Perform calculations to obtain purchase count, item price, and total purchase value\n",
    "#Create a summary data frame to hold the results\n",
    "#Sort the purchase count column in descending order\n",
    "#Optional: give the displayed data cleaner formatting\n",
    "#Display a preview of the summary data frame\n",
    "ItemCount=Purchase_df.groupby(['Item ID','Item Name']).count()['Purchase ID']\n",
    "ItemPrice=Purchase_df.groupby(['Item ID','Item Name']).mean()['Price']\n",
    "ItemValue=Purchase_df.groupby(['Item ID','Item Name']).sum()['Price']"
   ]
  },
  {
   "cell_type": "code",
   "execution_count": 16,
   "metadata": {},
   "outputs": [
    {
     "data": {
      "text/plain": [
       "'<table border=\"1\" class=\"dataframe\">\\n  <thead>\\n    <tr style=\"text-align: center;\">\\n      <th></th>\\n      <th></th>\\n      <th>Purchase Count</th>\\n      <th>Item Price</th>\\n      <th>Total Purcahse Value</th>\\n    </tr>\\n    <tr>\\n      <th>Item ID</th>\\n      <th>Item Name</th>\\n      <th></th>\\n      <th></th>\\n      <th></th>\\n    </tr>\\n  </thead>\\n  <tbody>\\n    <tr>\\n      <th>92</th>\\n      <th>Final Critic</th>\\n      <td>13</td>\\n      <td>$4.61</td>\\n      <td>$     59.99</td>\\n    </tr>\\n    <tr>\\n      <th>178</th>\\n      <th>Oathbreaker, Last Hope of the Breaking Storm</th>\\n      <td>12</td>\\n      <td>$4.23</td>\\n      <td>$     50.76</td>\\n    </tr>\\n    <tr>\\n      <th>145</th>\\n      <th>Fiery Glass Crusader</th>\\n      <td>9</td>\\n      <td>$4.58</td>\\n      <td>$     41.22</td>\\n    </tr>\\n    <tr>\\n      <th>132</th>\\n      <th>Persuasion</th>\\n      <td>9</td>\\n      <td>$3.22</td>\\n      <td>$     28.99</td>\\n    </tr>\\n    <tr>\\n      <th>108</th>\\n      <th>Extraction, Quickblade Of Trembling Hands</th>\\n      <td>9</td>\\n      <td>$3.53</td>\\n      <td>$     31.77</td>\\n    </tr>\\n  </tbody>\\n</table>'"
      ]
     },
     "execution_count": 16,
     "metadata": {},
     "output_type": "execute_result"
    }
   ],
   "source": [
    "SummaryItems=pd.DataFrame({\n",
    "    'Purchase Count':ItemCount,\n",
    "    'Item Price':ItemPrice.map('${:.2f}'.format),\n",
    "    'Total Purcahse Value':ItemValue.map('${:10.2f}'.format)\n",
    "})\n",
    "SummaryItems.sort_values(by=['Purchase Count'], ascending=False).head().to_html(justify='center')"
   ]
  },
  {
   "cell_type": "markdown",
   "metadata": {},
   "source": [
    "### Most Porfitable Items"
   ]
  },
  {
   "cell_type": "code",
   "execution_count": 17,
   "metadata": {
    "scrolled": true
   },
   "outputs": [
    {
     "data": {
      "text/plain": [
       "'<table border=\"1\" class=\"dataframe\">\\n  <thead>\\n    <tr style=\"text-align: center;\">\\n      <th></th>\\n      <th></th>\\n      <th>Purchase Count</th>\\n      <th>Item Price</th>\\n      <th>Total Purcahse Value</th>\\n    </tr>\\n    <tr>\\n      <th>Item ID</th>\\n      <th>Item Name</th>\\n      <th></th>\\n      <th></th>\\n      <th></th>\\n    </tr>\\n  </thead>\\n  <tbody>\\n    <tr>\\n      <th>92</th>\\n      <th>Final Critic</th>\\n      <td>13</td>\\n      <td>$4.61</td>\\n      <td>$     59.99</td>\\n    </tr>\\n    <tr>\\n      <th>178</th>\\n      <th>Oathbreaker, Last Hope of the Breaking Storm</th>\\n      <td>12</td>\\n      <td>$4.23</td>\\n      <td>$     50.76</td>\\n    </tr>\\n    <tr>\\n      <th>82</th>\\n      <th>Nirvana</th>\\n      <td>9</td>\\n      <td>$4.90</td>\\n      <td>$     44.10</td>\\n    </tr>\\n    <tr>\\n      <th>145</th>\\n      <th>Fiery Glass Crusader</th>\\n      <td>9</td>\\n      <td>$4.58</td>\\n      <td>$     41.22</td>\\n    </tr>\\n    <tr>\\n      <th>103</th>\\n      <th>Singed Scalpel</th>\\n      <td>8</td>\\n      <td>$4.35</td>\\n      <td>$     34.80</td>\\n    </tr>\\n  </tbody>\\n</table>'"
      ]
     },
     "execution_count": 17,
     "metadata": {},
     "output_type": "execute_result"
    }
   ],
   "source": [
    "SummaryItems.sort_values(by=['Total Purcahse Value'], ascending=False).head().to_html(justify='center')"
   ]
  },
  {
   "cell_type": "code",
   "execution_count": 18,
   "metadata": {},
   "outputs": [
    {
     "data": {
      "text/html": [
       "<div>\n",
       "<style scoped>\n",
       "    .dataframe tbody tr th:only-of-type {\n",
       "        vertical-align: middle;\n",
       "    }\n",
       "\n",
       "    .dataframe tbody tr th {\n",
       "        vertical-align: top;\n",
       "    }\n",
       "\n",
       "    .dataframe thead th {\n",
       "        text-align: right;\n",
       "    }\n",
       "</style>\n",
       "<table border=\"1\" class=\"dataframe\">\n",
       "  <thead>\n",
       "    <tr style=\"text-align: right;\">\n",
       "      <th></th>\n",
       "      <th></th>\n",
       "      <th>Purchase Count</th>\n",
       "      <th>Item Price</th>\n",
       "      <th>Total Purcahse Value</th>\n",
       "    </tr>\n",
       "    <tr>\n",
       "      <th>Item ID</th>\n",
       "      <th>Item Name</th>\n",
       "      <th></th>\n",
       "      <th></th>\n",
       "      <th></th>\n",
       "    </tr>\n",
       "  </thead>\n",
       "  <tbody>\n",
       "    <tr>\n",
       "      <th>63</th>\n",
       "      <th>Stormfury Mace</th>\n",
       "      <td>2</td>\n",
       "      <td>$4.99</td>\n",
       "      <td>$      9.98</td>\n",
       "    </tr>\n",
       "    <tr>\n",
       "      <th>139</th>\n",
       "      <th>Mercy, Katana of Dismay</th>\n",
       "      <td>5</td>\n",
       "      <td>$4.94</td>\n",
       "      <td>$     24.70</td>\n",
       "    </tr>\n",
       "    <tr>\n",
       "      <th>173</th>\n",
       "      <th>Stormfury Longsword</th>\n",
       "      <td>2</td>\n",
       "      <td>$4.93</td>\n",
       "      <td>$      9.86</td>\n",
       "    </tr>\n",
       "    <tr>\n",
       "      <th>147</th>\n",
       "      <th>Hellreaver, Heirloom of Inception</th>\n",
       "      <td>3</td>\n",
       "      <td>$4.93</td>\n",
       "      <td>$     14.79</td>\n",
       "    </tr>\n",
       "    <tr>\n",
       "      <th>128</th>\n",
       "      <th>Blazeguard, Reach of Eternity</th>\n",
       "      <td>5</td>\n",
       "      <td>$4.91</td>\n",
       "      <td>$     24.55</td>\n",
       "    </tr>\n",
       "  </tbody>\n",
       "</table>\n",
       "</div>"
      ],
      "text/plain": [
       "                                           Purchase Count Item Price  \\\n",
       "Item ID Item Name                                                      \n",
       "63      Stormfury Mace                                  2      $4.99   \n",
       "139     Mercy, Katana of Dismay                         5      $4.94   \n",
       "173     Stormfury Longsword                             2      $4.93   \n",
       "147     Hellreaver, Heirloom of Inception               3      $4.93   \n",
       "128     Blazeguard, Reach of Eternity                   5      $4.91   \n",
       "\n",
       "                                          Total Purcahse Value  \n",
       "Item ID Item Name                                               \n",
       "63      Stormfury Mace                             $      9.98  \n",
       "139     Mercy, Katana of Dismay                    $     24.70  \n",
       "173     Stormfury Longsword                        $      9.86  \n",
       "147     Hellreaver, Heirloom of Inception          $     14.79  \n",
       "128     Blazeguard, Reach of Eternity              $     24.55  "
      ]
     },
     "execution_count": 18,
     "metadata": {},
     "output_type": "execute_result"
    }
   ],
   "source": [
    "SummaryItems.sort_values(by=['Item Price'], ascending=False).head()"
   ]
  },
  {
   "cell_type": "markdown",
   "metadata": {},
   "source": [
    "## Conslusions"
   ]
  },
  {
   "cell_type": "code",
   "execution_count": null,
   "metadata": {},
   "outputs": [],
   "source": []
  },
  {
   "cell_type": "code",
   "execution_count": null,
   "metadata": {},
   "outputs": [],
   "source": []
  }
 ],
 "metadata": {
  "kernelspec": {
   "display_name": "Python 3",
   "language": "python",
   "name": "python3"
  },
  "language_info": {
   "codemirror_mode": {
    "name": "ipython",
    "version": 3
   },
   "file_extension": ".py",
   "mimetype": "text/x-python",
   "name": "python",
   "nbconvert_exporter": "python",
   "pygments_lexer": "ipython3",
   "version": "3.8.3"
  }
 },
 "nbformat": 4,
 "nbformat_minor": 2
}
